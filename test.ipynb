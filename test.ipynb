{
 "cells": [
  {
   "cell_type": "code",
   "execution_count": 3,
   "id": "c8c29954",
   "metadata": {},
   "outputs": [
    {
     "name": "stdout",
     "output_type": "stream",
     "text": [
      "IDs: ['31336', '1061127', '1106406']\n",
      "Features shape: (2708, 1433)\n",
      "Labels: {'Case_Based', 'Reinforcement_Learning', 'Probabilistic_Methods', 'Genetic_Algorithms', 'Rule_Learning', 'Neural_Networks', 'Theory'}\n"
     ]
    }
   ],
   "source": [
    "import numpy as np\n",
    "\n",
    "content_path = \"data/datasets/cora/cora/cora.content\"\n",
    "paper_ids = []\n",
    "features = []\n",
    "labels = []\n",
    "\n",
    "with open(content_path, \"r\") as f:\n",
    "    for line in f:\n",
    "        parts = line.strip().split()\n",
    "        paper_ids.append(parts[0])\n",
    "        features.append([int(x) for x in parts[1:-1]])\n",
    "        labels.append(parts[-1])\n",
    "\n",
    "features = np.array(features)\n",
    "print(\"IDs:\", paper_ids[:3])\n",
    "print(\"Features shape:\", features.shape)\n",
    "print(\"Labels:\", set(labels))"
   ]
  },
  {
   "cell_type": "code",
   "execution_count": 4,
   "id": "fd8a07c2",
   "metadata": {},
   "outputs": [
    {
     "name": "stdout",
     "output_type": "stream",
     "text": [
      "Primeiras arestas: [('35', '1033'), ('35', '103482'), ('35', '103515')]\n",
      "Total de arestas: 5429\n"
     ]
    }
   ],
   "source": [
    "edges = []\n",
    "\n",
    "with open(\"data/datasets/cora/cora/cora.cites\", \"r\") as f:\n",
    "    for line in f:\n",
    "        src, dst = line.strip().split()\n",
    "        edges.append((src, dst))\n",
    "\n",
    "print(\"Primeiras arestas:\", edges[:3])\n",
    "print(\"Total de arestas:\", len(edges))"
   ]
  },
  {
   "cell_type": "code",
   "execution_count": 1,
   "id": "2dff2331",
   "metadata": {},
   "outputs": [
    {
     "name": "stdout",
     "output_type": "stream",
     "text": [
      "Configurações carregadas. Usando dispositivo: cpu\n",
      "Dataset selecionado: Cora\n"
     ]
    },
    {
     "ename": "ModuleNotFoundError",
     "evalue": "No module named 'config'",
     "output_type": "error",
     "traceback": [
      "\u001b[31m---------------------------------------------------------------------------\u001b[39m",
      "\u001b[31mModuleNotFoundError\u001b[39m                       Traceback (most recent call last)",
      "\u001b[36mCell\u001b[39m\u001b[36m \u001b[39m\u001b[32mIn[1]\u001b[39m\u001b[32m, line 3\u001b[39m\n\u001b[32m      1\u001b[39m \u001b[38;5;28;01mimport\u001b[39;00m\u001b[38;5;250m \u001b[39m\u001b[34;01mtorch\u001b[39;00m\n\u001b[32m      2\u001b[39m \u001b[38;5;28;01mfrom\u001b[39;00m\u001b[38;5;250m \u001b[39m\u001b[34;01msrc\u001b[39;00m\u001b[34;01m.\u001b[39;00m\u001b[34;01mconfig\u001b[39;00m\u001b[38;5;250m \u001b[39m\u001b[38;5;28;01mimport\u001b[39;00m Config\n\u001b[32m----> \u001b[39m\u001b[32m3\u001b[39m \u001b[38;5;28;01mfrom\u001b[39;00m\u001b[38;5;250m \u001b[39m\u001b[34;01msrc\u001b[39;00m\u001b[34;01m.\u001b[39;00m\u001b[34;01mdata_loader\u001b[39;00m\u001b[38;5;250m \u001b[39m\u001b[38;5;28;01mimport\u001b[39;00m get_loader\n\u001b[32m      4\u001b[39m \u001b[38;5;28;01mfrom\u001b[39;00m\u001b[38;5;250m \u001b[39m\u001b[34;01mtorch_geometric\u001b[39;00m\u001b[34;01m.\u001b[39;00m\u001b[34;01mutils\u001b[39;00m\u001b[38;5;250m \u001b[39m\u001b[38;5;28;01mimport\u001b[39;00m degree\n\u001b[32m      6\u001b[39m \u001b[38;5;66;03m# Carrega os dados do Cora\u001b[39;00m\n",
      "\u001b[36mFile \u001b[39m\u001b[32m/app/gnn_tcc/src/data_loader.py:11\u001b[39m\n\u001b[32m      8\u001b[39m \u001b[38;5;28;01mimport\u001b[39;00m\u001b[38;5;250m \u001b[39m\u001b[34;01mnumpy\u001b[39;00m\u001b[38;5;250m \u001b[39m\u001b[38;5;28;01mas\u001b[39;00m\u001b[38;5;250m \u001b[39m\u001b[34;01mnp\u001b[39;00m\n\u001b[32m      9\u001b[39m \u001b[38;5;28;01mimport\u001b[39;00m\u001b[38;5;250m \u001b[39m\u001b[34;01mjson\u001b[39;00m\n\u001b[32m---> \u001b[39m\u001b[32m11\u001b[39m \u001b[38;5;28;01mfrom\u001b[39;00m\u001b[38;5;250m \u001b[39m\u001b[34;01mconfig\u001b[39;00m\u001b[38;5;250m \u001b[39m\u001b[38;5;28;01mimport\u001b[39;00m Config\n\u001b[32m     13\u001b[39m \u001b[38;5;28;01mclass\u001b[39;00m\u001b[38;5;250m \u001b[39m\u001b[34;01mBaseDatasetLoader\u001b[39;00m(ABC):\n\u001b[32m     14\u001b[39m \u001b[38;5;250m    \u001b[39m\u001b[33;03m\"\"\"Classe base que define o contrato para os loaders.\"\"\"\u001b[39;00m\n",
      "\u001b[31mModuleNotFoundError\u001b[39m: No module named 'config'"
     ]
    }
   ],
   "source": [
    "import torch\n",
    "from src.config import Config\n",
    "from src.data_loader import get_loader\n",
    "from torch_geometric.utils import degree\n",
    "\n",
    "# Carrega os dados do Cora\n",
    "loader = get_loader('Cora')\n",
    "graph_data, _, _ = loader.load()\n",
    "\n",
    "# Calcula o grau total (in + out) para cada nó\n",
    "total_degree = degree(graph_data.edge_index[0], num_nodes=graph_data.num_nodes) + \\\n",
    "               degree(graph_data.edge_index[1], num_nodes=graph_data.num_nodes)\n",
    "\n",
    "# Encontra os 5 nós com o maior número de conexões\n",
    "top5_degrees, top5_node_indices = torch.topk(total_degree, 5)\n",
    "\n",
    "print(\"--- Top 5 Nós Mais Conectados do Cora ---\")\n",
    "for i in range(5):\n",
    "    node_id = top5_node_indices[i].item()\n",
    "    node_degree = top5_degrees[i].item()\n",
    "    print(f\"Posição {i+1}: Nó ID {node_id} com {node_degree} conexões.\")\n",
    "\n",
    "print(\"\\nNossa função escolhe o primeiro da lista (o com maior grau).\")"
   ]
  }
 ],
 "metadata": {
  "kernelspec": {
   "display_name": "Python 3",
   "language": "python",
   "name": "python3"
  },
  "language_info": {
   "codemirror_mode": {
    "name": "ipython",
    "version": 3
   },
   "file_extension": ".py",
   "mimetype": "text/x-python",
   "name": "python",
   "nbconvert_exporter": "python",
   "pygments_lexer": "ipython3",
   "version": "3.11.13"
  }
 },
 "nbformat": 4,
 "nbformat_minor": 5
}
